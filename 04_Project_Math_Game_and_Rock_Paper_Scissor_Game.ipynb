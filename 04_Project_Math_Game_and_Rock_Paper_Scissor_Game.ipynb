{
  "cells": [
    {
      "cell_type": "markdown",
      "id": "525d041d",
      "metadata": {
        "id": "525d041d"
      },
      "source": [
        "# Project - Math Game and Rock-Paper-Scissor Game\n",
        "### Goal\n",
        "- Create a Math Game\n",
        "- Create a [Rock-Paper-Scissors Game](https://en.wikipedia.org/wiki/Rock_paper_scissors)"
      ]
    },
    {
      "cell_type": "markdown",
      "id": "4f64db8f",
      "metadata": {
        "id": "4f64db8f"
      },
      "source": [
        "### Math Game\n",
        "- First, import random\n",
        "- Get a random inteteger from the range 1 to 10 (both inclusive)\n",
        "- Get another random inteteger from the range 1 to 10 (both inclusive)\n",
        "- Prompt the user for what the two integers multiplied is\n",
        "- Print if correct or not. If not corrrect, print the correct answer."
      ]
    },
    {
      "cell_type": "code",
      "execution_count": 1,
      "id": "44e9296e",
      "metadata": {
        "id": "44e9296e"
      },
      "outputs": [],
      "source": [
        "import random"
      ]
    },
    {
      "cell_type": "code",
      "execution_count": 3,
      "id": "rIf42YJNyYTx",
      "metadata": {
        "colab": {
          "base_uri": "https://localhost:8080/"
        },
        "id": "rIf42YJNyYTx",
        "outputId": "3deab147-a377-43db-cd16-c5c8b9f38058"
      },
      "outputs": [
        {
          "name": "stdout",
          "output_type": "stream",
          "text": [
            "10 7\n",
            "Incorrect: the correct answer is 70\n"
          ]
        }
      ],
      "source": [
        "int = random.randint(1, 10)\n",
        "int2 = random.randint(1, 10)\n",
        "print(int, int2)\n",
        "my_input = float(input(\"what is the product of the multiplied values: \"))\n",
        "if my_input == (int*int2):\n",
        "  print(\"Correct\")\n",
        "else:\n",
        "  print(f\"Incorrect: the correct answer is {int*int2}\")"
      ]
    },
    {
      "cell_type": "markdown",
      "id": "ee3354d1",
      "metadata": {
        "id": "ee3354d1"
      },
      "source": [
        "### Rock, Paper, Scissors Game\n",
        "\n",
        "![Rock Paper Scissor](img/RockPaperScissors.png \"Rock-Paper-Scissor\")"
      ]
    },
    {
      "cell_type": "code",
      "execution_count": 9,
      "id": "74814256",
      "metadata": {
        "colab": {
          "base_uri": "https://localhost:8080/"
        },
        "id": "74814256",
        "outputId": "29bf0a6f-b386-4143-eeb0-9803e4298a01"
      },
      "outputs": [
        {
          "name": "stdout",
          "output_type": "stream",
          "text": [
            "Please input selection 1: Rock, 2: Paper, 3: Scissors\n",
            "Enter a value btwn 1 to 3\n",
            "Computer: 2\n"
          ]
        }
      ],
      "source": [
        "print(\"Please input selection 1: Rock, 2: Paper, 3: Scissors\")\n",
        "user_input = input(\"Please input a value between (1/2/3): \")\n",
        "user_input = float(user_input)\n",
        "if  user_input<0:\n",
        "  print(\"Enter a value btwn 1 to 3\")\n",
        "elif  user_input >4:\n",
        "  print(\" Damn ! Bad input please try again  \")\n",
        "\n",
        "\n",
        "computer_input = random.randint(1, 3)\n",
        "print(f\"Computer: {computer_input}\")\n",
        "\n",
        "if user_input == computer_input:\n",
        "  print(\"The result is a draw\")\n",
        "elif user_input == 1: #Rock\n",
        "  if computer_input == 2: #Paper\n",
        "    print(\"Computer Wins!\")\n",
        "  else:\n",
        "    print(\"You Win!\")\n",
        "elif user_input == 2: #Paper\n",
        "  if computer_input == 1: #Rock\n",
        "    print(\"You Win!\")\n",
        "  else:\n",
        "    print(\"Computer Wins!\")\n",
        "elif user_input == 3: #Scissors\n",
        "  if computer_input == 1: #Rock\n",
        "    print(\"Computer Wins!\")\n",
        "  else:\n",
        "    print(\"You Win!\")"
      ]
    },
    {
      "cell_type": "code",
      "execution_count": null,
      "id": "vXdX95Uo3UmU",
      "metadata": {
        "id": "vXdX95Uo3UmU"
      },
      "outputs": [],
      "source": []
    }
  ],
  "metadata": {
    "colab": {
      "collapsed_sections": [],
      "include_colab_link": true,
      "provenance": []
    },
    "kernelspec": {
      "display_name": "Python 3",
      "name": "python3"
    },
    "language_info": {
      "codemirror_mode": {
        "name": "ipython",
        "version": 3
      },
      "file_extension": ".py",
      "mimetype": "text/x-python",
      "name": "python",
      "nbconvert_exporter": "python",
      "pygments_lexer": "ipython3",
      "version": "3.11.8"
    }
  },
  "nbformat": 4,
  "nbformat_minor": 5
}

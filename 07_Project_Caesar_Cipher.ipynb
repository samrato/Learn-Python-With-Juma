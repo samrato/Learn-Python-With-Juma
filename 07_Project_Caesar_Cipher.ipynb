{
  "cells": [
    {
      "cell_type": "markdown",
      "metadata": {
        "colab_type": "text",
        "id": "view-in-github"
      },
      "source": [
        "<a href=\"https://colab.research.google.com/github/MlungisiN/Learn-Python-With-Rune/blob/master/07_Project_Caesar_Cipher.ipynb\" target=\"_parent\"><img src=\"https://colab.research.google.com/assets/colab-badge.svg\" alt=\"Open In Colab\"/></a>"
      ]
    },
    {
      "cell_type": "markdown",
      "id": "c38a2768",
      "metadata": {
        "id": "c38a2768"
      },
      "source": [
        "<a \n",
        " href=\"https://colab.research.google.com/github/LearnPythonWithRune/LearnPython/blob/main/colab/starter/07 - Project - Caesar Cipher.ipynb\"\n",
        " target=\"_parent\">\n",
        "<img \n",
        " src=\"https://colab.research.google.com/assets/colab-badge.svg\"\n",
        "alt=\"Open In Colab\"/>\n",
        "</a>"
      ]
    },
    {
      "cell_type": "markdown",
      "id": "fb77f922",
      "metadata": {
        "id": "fb77f922"
      },
      "source": [
        "# Project - Caesar Cipher\n",
        "### Goal\n",
        "- Create [Caesar Cipher](https://en.wikipedia.org/wiki/Caesar_cipher) encryption and decryption functionality"
      ]
    },
    {
      "cell_type": "markdown",
      "id": "71437ad5",
      "metadata": {
        "id": "71437ad5"
      },
      "source": [
        "### Description\n",
        "- The Caesar Cipher is a simple substitution cipher, which is limited to only shift the characters by fixed number.\n",
        "- Let's take an example\n",
        "    - Imagine you got the message: BRX DUH DZHVRPH. What to make out of it. Makes no sense.\n",
        "    - But what if we get help from this diagram\n",
        "    \n",
        "![Caesar Cipher](img/CaesarCipher.png)"
      ]
    },
    {
      "cell_type": "markdown",
      "id": "ec3eadda",
      "metadata": {
        "id": "ec3eadda"
      },
      "source": [
        "### Project\n",
        "- Implement helper function **encrypt_char(char, key)** to encrypt a single character, **char**, with **key**.\n",
        "    - It can be helpful to use **ord()**, **chr()** and **%**.\n",
        "    - Calculation can be a bit tricky.\n",
        "- Implement **encrypt_message(message, key)**, it should use the helper function.\n",
        "- Implement similar functions for decrypt."
      ]
    },
    {
      "cell_type": "code",
      "execution_count": 2,
      "id": "0ea65014",
      "metadata": {
        "id": "0ea65014"
      },
      "outputs": [],
      "source": [
        "def encrypt_character(char, key):\n",
        "  return chr(ord('A') + (ord(char) - ord('A') + key) % 26)"
      ]
    },
    {
      "cell_type": "code",
      "execution_count": 3,
      "id": "26bfdf6d",
      "metadata": {
        "colab": {
          "base_uri": "https://localhost:8080/",
          "height": 35
        },
        "id": "26bfdf6d",
        "outputId": "4b30f42b-affd-42f7-acf2-50ede7a94a59"
      },
      "outputs": [
        {
          "data": {
            "text/plain": [
              "'A'"
            ]
          },
          "execution_count": 3,
          "metadata": {},
          "output_type": "execute_result"
        }
      ],
      "source": [
        "encrypt_character('X', 3)"
      ]
    },
    {
      "cell_type": "code",
      "execution_count": 4,
      "id": "f3573918",
      "metadata": {
        "id": "f3573918"
      },
      "outputs": [],
      "source": [
        "def encrypt_message(message, key):\n",
        "  message = message.upper()\n",
        "  cipher = ''\n",
        "  for i in message:\n",
        "    if i in ' .,':\n",
        "      cipher = cipher + i\n",
        "    else:\n",
        "      cipher = cipher + encrypt_character(i, key)\n",
        "  return(cipher)"
      ]
    },
    {
      "cell_type": "code",
      "execution_count": 6,
      "id": "76807986",
      "metadata": {
        "colab": {
          "base_uri": "https://localhost:8080/",
          "height": 35
        },
        "id": "76807986",
        "outputId": "4333d0ab-0cc9-43b8-cde9-112b5c99493f"
      },
      "outputs": [
        {
          "data": {
            "text/plain": [
              "' ILUV OHDUQ WKHQ UHPRYH O ....OMOR WR GR OLVW  NWVHOO FRFDLQH OWPRQHB ODXQGHULQJ PWIUDXGURE EDQNV  C VWLOO VDPUDWD GH DFWLYDWRU'"
            ]
          },
          "execution_count": 6,
          "metadata": {},
          "output_type": "execute_result"
        }
      ],
      "source": [
        "encrypt_message(\" Firs learn then Remove L ....2025 to Do list  1:Sell cocaine 2:Money Laundering 3:FraudRob Banks  @ still samrata de activator\", 3)"
      ]
    },
    {
      "cell_type": "code",
      "execution_count": 7,
      "id": "96676657",
      "metadata": {
        "id": "96676657"
      },
      "outputs": [],
      "source": [
        "def decrypt_char(char, key):\n",
        "  return chr(ord('A') + (ord(char) - ord('A') + 26 - key) % 26)"
      ]
    },
    {
      "cell_type": "code",
      "execution_count": 8,
      "id": "0bcd2185",
      "metadata": {
        "id": "0bcd2185"
      },
      "outputs": [],
      "source": [
        "def decrypt_message(cipher, key):\n",
        "  message = ''\n",
        "  for i in cipher:\n",
        "    if i in ' .,':\n",
        "      message = message + i\n",
        "    else:\n",
        "      message = message + decrypt_char(i, key)\n",
        "  return(message)"
      ]
    },
    {
      "cell_type": "code",
      "execution_count": 9,
      "id": "e11c1e54",
      "metadata": {
        "colab": {
          "base_uri": "https://localhost:8080/",
          "height": 35
        },
        "id": "e11c1e54",
        "outputId": "7c066341-cb3b-4ff7-e3cc-391e684bd435"
      },
      "outputs": [
        {
          "data": {
            "text/plain": [
              "' FIRS LEARN THEN REMOVE L ....LJLO TO DO LIST  KTSELL COCAINE LTMONEY LAUNDERING MTFRAUDROB BANKS  Z STILL SAMRATA DE ACTIVATOR'"
            ]
          },
          "execution_count": 9,
          "metadata": {},
          "output_type": "execute_result"
        }
      ],
      "source": [
        "decrypt_message(' ILUV OHDUQ WKHQ UHPRYH O ....OMOR WR GR OLVW  NWVHOO FRFDLQH OWPRQHB ODXQGHULQJ PWIUDXGURE EDQNV  C VWLOO VDPUDWD GH DFWLYDWRU', 3)"
      ]
    },
    {
      "cell_type": "code",
      "execution_count": null,
      "id": "fd8d4f5b",
      "metadata": {
        "id": "fd8d4f5b"
      },
      "outputs": [],
      "source": []
    }
  ],
  "metadata": {
    "colab": {
      "collapsed_sections": [],
      "include_colab_link": true,
      "provenance": []
    },
    "kernelspec": {
      "display_name": "Python 3",
      "name": "python3"
    },
    "language_info": {
      "codemirror_mode": {
        "name": "ipython",
        "version": 3
      },
      "file_extension": ".py",
      "mimetype": "text/x-python",
      "name": "python",
      "nbconvert_exporter": "python",
      "pygments_lexer": "ipython3",
      "version": "3.12.7"
    }
  },
  "nbformat": 4,
  "nbformat_minor": 5
}

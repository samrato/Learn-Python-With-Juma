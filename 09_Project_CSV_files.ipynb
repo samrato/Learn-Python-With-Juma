{
  "cells": [
    {
      "cell_type": "markdown",
      "id": "bafa3fdb",
      "metadata": {
        "id": "bafa3fdb"
      },
      "source": [
        "# Project - CSV files - Cars\n",
        "### Goal\n",
        "- Learn how to read and process [CSV files](https://en.wikipedia.org/wiki/Comma-separated_values)\n",
        "- Process files/cars.csv and calculate the average horsepower for each car brand"
      ]
    },
    {
      "cell_type": "markdown",
      "id": "29cf56e1",
      "metadata": {
        "id": "29cf56e1"
      },
      "source": [
        "### Description\n",
        "- Process the file files/cars.csv and calculate the average horsepower for each car brand\n",
        "- Step 1: import csv\n",
        "- Step 2: Read CSV file into a list of dictionaries\n",
        "- Step 3: Use a dictionary to have a list of horsepowers for each car brand\n",
        "    - HINT: Car brand is called **Make** in dataset\n",
        "    - HINT: Use .get(car['Make'], []) + [car['Horsepower']]\n",
        "- Step 4: Use a new dictionary to keep the calculated average horsepower we will calculate in a for-loop over the dictionary from Step 3.\n",
        "    - HINT: Use another (nested) for-loop inside the for-loop to sum up the horsepowers."
      ]
    },
    {
      "cell_type": "code",
      "execution_count": 5,
      "id": "b7ad69ef",
      "metadata": {
        "id": "b7ad69ef"
      },
      "outputs": [],
      "source": [
        "import urllib.request\n",
        "import csv"
      ]
    },
    {
      "cell_type": "code",
      "execution_count": 6,
      "id": "5d6504cb",
      "metadata": {
        "id": "5d6504cb"
      },
      "outputs": [
        {
          "ename": "ValueError",
          "evalue": "unknown url type: '/home/activator/Desktop/Learn-Python-With-Juma/files/cars.csv'",
          "output_type": "error",
          "traceback": [
            "\u001b[0;31m---------------------------------------------------------------------------\u001b[0m",
            "\u001b[0;31mValueError\u001b[0m                                Traceback (most recent call last)",
            "Cell \u001b[0;32mIn[6], line 3\u001b[0m\n\u001b[1;32m      1\u001b[0m remote_file \u001b[38;5;241m=\u001b[39m \u001b[38;5;124m\"\u001b[39m\u001b[38;5;124m/home/activator/Desktop/Learn-Python-With-Juma/files/cars.csv\u001b[39m\u001b[38;5;124m\"\u001b[39m\n\u001b[0;32m----> 3\u001b[0m \u001b[38;5;28;01mwith\u001b[39;00m \u001b[43murllib\u001b[49m\u001b[38;5;241;43m.\u001b[39;49m\u001b[43mrequest\u001b[49m\u001b[38;5;241;43m.\u001b[39;49m\u001b[43murlopen\u001b[49m\u001b[43m(\u001b[49m\u001b[43mremote_file\u001b[49m\u001b[43m)\u001b[49m \u001b[38;5;28;01mas\u001b[39;00m f:\n\u001b[1;32m      4\u001b[0m     csv_reader \u001b[38;5;241m=\u001b[39m csv\u001b[38;5;241m.\u001b[39mDictReader(f\u001b[38;5;241m.\u001b[39mread()\u001b[38;5;241m.\u001b[39mdecode()\u001b[38;5;241m.\u001b[39msplit(\u001b[38;5;124m'\u001b[39m\u001b[38;5;130;01m\\n\u001b[39;00m\u001b[38;5;124m'\u001b[39m))\n\u001b[1;32m      5\u001b[0m     cars \u001b[38;5;241m=\u001b[39m \u001b[38;5;28mlist\u001b[39m(csv_reader)\n",
            "File \u001b[0;32m/usr/lib/python3.11/urllib/request.py:216\u001b[0m, in \u001b[0;36murlopen\u001b[0;34m(url, data, timeout, cafile, capath, cadefault, context)\u001b[0m\n\u001b[1;32m    214\u001b[0m \u001b[38;5;28;01melse\u001b[39;00m:\n\u001b[1;32m    215\u001b[0m     opener \u001b[38;5;241m=\u001b[39m _opener\n\u001b[0;32m--> 216\u001b[0m \u001b[38;5;28;01mreturn\u001b[39;00m \u001b[43mopener\u001b[49m\u001b[38;5;241;43m.\u001b[39;49m\u001b[43mopen\u001b[49m\u001b[43m(\u001b[49m\u001b[43murl\u001b[49m\u001b[43m,\u001b[49m\u001b[43m \u001b[49m\u001b[43mdata\u001b[49m\u001b[43m,\u001b[49m\u001b[43m \u001b[49m\u001b[43mtimeout\u001b[49m\u001b[43m)\u001b[49m\n",
            "File \u001b[0;32m/usr/lib/python3.11/urllib/request.py:503\u001b[0m, in \u001b[0;36mOpenerDirector.open\u001b[0;34m(self, fullurl, data, timeout)\u001b[0m\n\u001b[1;32m    500\u001b[0m \u001b[38;5;28;01mdef\u001b[39;00m \u001b[38;5;21mopen\u001b[39m(\u001b[38;5;28mself\u001b[39m, fullurl, data\u001b[38;5;241m=\u001b[39m\u001b[38;5;28;01mNone\u001b[39;00m, timeout\u001b[38;5;241m=\u001b[39msocket\u001b[38;5;241m.\u001b[39m_GLOBAL_DEFAULT_TIMEOUT):\n\u001b[1;32m    501\u001b[0m     \u001b[38;5;66;03m# accept a URL or a Request object\u001b[39;00m\n\u001b[1;32m    502\u001b[0m     \u001b[38;5;28;01mif\u001b[39;00m \u001b[38;5;28misinstance\u001b[39m(fullurl, \u001b[38;5;28mstr\u001b[39m):\n\u001b[0;32m--> 503\u001b[0m         req \u001b[38;5;241m=\u001b[39m \u001b[43mRequest\u001b[49m\u001b[43m(\u001b[49m\u001b[43mfullurl\u001b[49m\u001b[43m,\u001b[49m\u001b[43m \u001b[49m\u001b[43mdata\u001b[49m\u001b[43m)\u001b[49m\n\u001b[1;32m    504\u001b[0m     \u001b[38;5;28;01melse\u001b[39;00m:\n\u001b[1;32m    505\u001b[0m         req \u001b[38;5;241m=\u001b[39m fullurl\n",
            "File \u001b[0;32m/usr/lib/python3.11/urllib/request.py:322\u001b[0m, in \u001b[0;36mRequest.__init__\u001b[0;34m(self, url, data, headers, origin_req_host, unverifiable, method)\u001b[0m\n\u001b[1;32m    319\u001b[0m \u001b[38;5;28;01mdef\u001b[39;00m \u001b[38;5;21m__init__\u001b[39m(\u001b[38;5;28mself\u001b[39m, url, data\u001b[38;5;241m=\u001b[39m\u001b[38;5;28;01mNone\u001b[39;00m, headers\u001b[38;5;241m=\u001b[39m{},\n\u001b[1;32m    320\u001b[0m              origin_req_host\u001b[38;5;241m=\u001b[39m\u001b[38;5;28;01mNone\u001b[39;00m, unverifiable\u001b[38;5;241m=\u001b[39m\u001b[38;5;28;01mFalse\u001b[39;00m,\n\u001b[1;32m    321\u001b[0m              method\u001b[38;5;241m=\u001b[39m\u001b[38;5;28;01mNone\u001b[39;00m):\n\u001b[0;32m--> 322\u001b[0m     \u001b[38;5;28;43mself\u001b[39;49m\u001b[38;5;241;43m.\u001b[39;49m\u001b[43mfull_url\u001b[49m \u001b[38;5;241m=\u001b[39m url\n\u001b[1;32m    323\u001b[0m     \u001b[38;5;28mself\u001b[39m\u001b[38;5;241m.\u001b[39mheaders \u001b[38;5;241m=\u001b[39m {}\n\u001b[1;32m    324\u001b[0m     \u001b[38;5;28mself\u001b[39m\u001b[38;5;241m.\u001b[39munredirected_hdrs \u001b[38;5;241m=\u001b[39m {}\n",
            "File \u001b[0;32m/usr/lib/python3.11/urllib/request.py:348\u001b[0m, in \u001b[0;36mRequest.full_url\u001b[0;34m(self, url)\u001b[0m\n\u001b[1;32m    346\u001b[0m \u001b[38;5;28mself\u001b[39m\u001b[38;5;241m.\u001b[39m_full_url \u001b[38;5;241m=\u001b[39m unwrap(url)\n\u001b[1;32m    347\u001b[0m \u001b[38;5;28mself\u001b[39m\u001b[38;5;241m.\u001b[39m_full_url, \u001b[38;5;28mself\u001b[39m\u001b[38;5;241m.\u001b[39mfragment \u001b[38;5;241m=\u001b[39m _splittag(\u001b[38;5;28mself\u001b[39m\u001b[38;5;241m.\u001b[39m_full_url)\n\u001b[0;32m--> 348\u001b[0m \u001b[38;5;28;43mself\u001b[39;49m\u001b[38;5;241;43m.\u001b[39;49m\u001b[43m_parse\u001b[49m\u001b[43m(\u001b[49m\u001b[43m)\u001b[49m\n",
            "File \u001b[0;32m/usr/lib/python3.11/urllib/request.py:377\u001b[0m, in \u001b[0;36mRequest._parse\u001b[0;34m(self)\u001b[0m\n\u001b[1;32m    375\u001b[0m \u001b[38;5;28mself\u001b[39m\u001b[38;5;241m.\u001b[39mtype, rest \u001b[38;5;241m=\u001b[39m _splittype(\u001b[38;5;28mself\u001b[39m\u001b[38;5;241m.\u001b[39m_full_url)\n\u001b[1;32m    376\u001b[0m \u001b[38;5;28;01mif\u001b[39;00m \u001b[38;5;28mself\u001b[39m\u001b[38;5;241m.\u001b[39mtype \u001b[38;5;129;01mis\u001b[39;00m \u001b[38;5;28;01mNone\u001b[39;00m:\n\u001b[0;32m--> 377\u001b[0m     \u001b[38;5;28;01mraise\u001b[39;00m \u001b[38;5;167;01mValueError\u001b[39;00m(\u001b[38;5;124m\"\u001b[39m\u001b[38;5;124munknown url type: \u001b[39m\u001b[38;5;132;01m%r\u001b[39;00m\u001b[38;5;124m\"\u001b[39m \u001b[38;5;241m%\u001b[39m \u001b[38;5;28mself\u001b[39m\u001b[38;5;241m.\u001b[39mfull_url)\n\u001b[1;32m    378\u001b[0m \u001b[38;5;28mself\u001b[39m\u001b[38;5;241m.\u001b[39mhost, \u001b[38;5;28mself\u001b[39m\u001b[38;5;241m.\u001b[39mselector \u001b[38;5;241m=\u001b[39m _splithost(rest)\n\u001b[1;32m    379\u001b[0m \u001b[38;5;28;01mif\u001b[39;00m \u001b[38;5;28mself\u001b[39m\u001b[38;5;241m.\u001b[39mhost:\n",
            "\u001b[0;31mValueError\u001b[0m: unknown url type: '/home/activator/Desktop/Learn-Python-With-Juma/files/cars.csv'"
          ]
        }
      ],
      "source": [
        "remote_file = \"/home/activator/Desktop/Learn-Python-With-Juma/files/cars.csv\"\n",
        "\n",
        "with urllib.request.urlopen(remote_file) as f:\n",
        "    csv_reader = csv.DictReader(f.read().decode().split('\\n'))\n",
        "    cars = list(csv_reader)"
      ]
    },
    {
      "cell_type": "code",
      "execution_count": 24,
      "id": "MLzU-q1FnQv4",
      "metadata": {
        "colab": {
          "base_uri": "https://localhost:8080/"
        },
        "id": "MLzU-q1FnQv4",
        "outputId": "73435b40-bd8e-43e9-eeb0-2417b1fe2e21"
      },
      "outputs": [
        {
          "data": {
            "text/plain": [
              "OrderedDict([('Height', '140'),\n",
              "             ('Length', '143'),\n",
              "             ('Width', '202'),\n",
              "             ('Engine Driveline', 'All-wheel drive'),\n",
              "             ('Engine Type', 'Audi 3.2L 6 cylinder 250hp 236ft-lbs'),\n",
              "             ('Engine Hybrid', 'True'),\n",
              "             ('Number of Forward Gears', '6'),\n",
              "             ('Engine Transmission', '6 Speed Automatic Select Shift'),\n",
              "             ('Fuel City mpg', '18'),\n",
              "             ('Fuel Type', 'Gasoline'),\n",
              "             ('Fuel Highway mpg', '25'),\n",
              "             ('Classification', 'Automatic transmission'),\n",
              "             ('ID', '2009 Audi A3 3.2'),\n",
              "             ('Make', 'Audi'),\n",
              "             ('Model Year', '2009 Audi A3'),\n",
              "             ('Year', '2009'),\n",
              "             ('Horsepower', '250'),\n",
              "             ('Torque', '236')])"
            ]
          },
          "execution_count": 24,
          "metadata": {},
          "output_type": "execute_result"
        }
      ],
      "source": [
        "cars[0]"
      ]
    },
    {
      "cell_type": "code",
      "execution_count": 25,
      "id": "6cd92f51",
      "metadata": {
        "id": "6cd92f51"
      },
      "outputs": [],
      "source": [
        "car_makes = {}\n",
        "for car in cars:\n",
        "  car_makes[car['Make']] = car_makes.get(car['Make'], []) + [car['Horsepower']]"
      ]
    },
    {
      "cell_type": "code",
      "execution_count": 32,
      "id": "cbd23065",
      "metadata": {
        "id": "cbd23065"
      },
      "outputs": [],
      "source": [
        "car_makes_hp = {}\n",
        "\n",
        "for car_make, hp_list in car_makes.items():\n",
        "  hp_sum = 0\n",
        "  for hp in hp_list:\n",
        "    hp_sum = hp_sum + int(hp)\n",
        "  car_makes_hp[car_make] = hp_sum/len(hp_list)"
      ]
    },
    {
      "cell_type": "code",
      "execution_count": 33,
      "id": "ace9e391",
      "metadata": {
        "colab": {
          "base_uri": "https://localhost:8080/"
        },
        "id": "ace9e391",
        "outputId": "6b81316f-9621-49ac-f047-ace0fda23450"
      },
      "outputs": [
        {
          "data": {
            "text/plain": [
              "{'Audi': 300.18390804597703,\n",
              " 'Acura': 262.8484848484849,\n",
              " 'BMW': 347.18045112781954,\n",
              " 'Chevrolet': 294.8083067092652,\n",
              " 'Nissan': 269.2142857142857,\n",
              " 'Volvo': 247.24271844660194,\n",
              " 'Bentley': 577.4444444444445,\n",
              " 'Toyota': 253.44923076923078,\n",
              " 'Honda': 188.225,\n",
              " 'Ford': 275.4112769485904,\n",
              " 'Rolls-Royce': 475.0,\n",
              " 'Volkswagen': 192.49612403100775,\n",
              " 'Maybach': 599.8461538461538,\n",
              " 'Lamborghini': 554.8,\n",
              " 'Lexus': 301.61538461538464,\n",
              " 'Hyundai': 207.3031914893617,\n",
              " 'Mercedes': 280.21875,\n",
              " 'BMW Motorrad': 233.6206896551724,\n",
              " 'Kia': 179.74074074074073,\n",
              " 'AMG': 525.9,\n",
              " 'Mazda': 187.14880952380952,\n",
              " 'Mercedes-Benz': 388.42857142857144,\n",
              " 'Mercedes-AMG': 494.8333333333333,\n",
              " 'Mitsubishi': 195.35294117647058,\n",
              " 'Cadillac': 340.98,\n",
              " 'Infiniti': 322.1294117647059,\n",
              " 'Dodge': 303.93461538461537,\n",
              " 'Lincoln': 290.5581395348837,\n",
              " 'GMC': 285.9755434782609,\n",
              " 'Porsche': 376.54901960784315,\n",
              " 'Jeep': 207.60504201680672,\n",
              " 'Subaru': 205.2095238095238,\n",
              " 'Buick': 249.88732394366198,\n",
              " 'Suzuki': 185.13725490196077,\n",
              " 'Saab': 222.54237288135593,\n",
              " 'Aston Martin': 470.0,\n",
              " 'Grand Cherokee': 320.0625,\n",
              " 'Land Rover': 373.85714285714283,\n",
              " 'Chrysler': 246.7,\n",
              " 'Ferrari': 540.0,\n",
              " 'Scion': 156.6153846153846,\n",
              " 'MINI': 160.96774193548387,\n",
              " 'Jaguar': 448.75,\n",
              " 'Chrysler Group LLC': 279.1666666666667,\n",
              " 'Lotus': 231.0,\n",
              " 'Maserati': 422.5,\n",
              " 'Mercury': 205.21428571428572}"
            ]
          },
          "execution_count": 33,
          "metadata": {},
          "output_type": "execute_result"
        }
      ],
      "source": [
        "car_makes_hp"
      ]
    },
    {
      "cell_type": "code",
      "execution_count": null,
      "id": "a7459158",
      "metadata": {
        "id": "a7459158"
      },
      "outputs": [],
      "source": []
    }
  ],
  "metadata": {
    "colab": {
      "collapsed_sections": [],
      "include_colab_link": true,
      "provenance": []
    },
    "kernelspec": {
      "display_name": "Python 3",
      "name": "python3"
    },
    "language_info": {
      "codemirror_mode": {
        "name": "ipython",
        "version": 3
      },
      "file_extension": ".py",
      "mimetype": "text/x-python",
      "name": "python",
      "nbconvert_exporter": "python",
      "pygments_lexer": "ipython3",
      "version": "3.11.8"
    }
  },
  "nbformat": 4,
  "nbformat_minor": 5
}

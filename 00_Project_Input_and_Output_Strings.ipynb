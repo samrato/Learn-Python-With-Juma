{
  "cells": [
    {
      "cell_type": "markdown",
      "metadata": {
        "colab_type": "text",
        "id": "view-in-github"
      },
      "source": [
        "<a href=\"https://colab.research.google.com/github/MlungisiN/Learn-Python-With-Rune/blob/master/00_Project_Input_and_Output_Strings.ipynb\" target=\"_parent\"><img src=\"https://colab.research.google.com/assets/colab-badge.svg\" alt=\"Open In Colab\"/></a>"
      ]
    },
    {
      "cell_type": "markdown",
      "id": "03b4e3d4",
      "metadata": {
        "id": "03b4e3d4"
      },
      "source": [
        "<a \n",
        " href=\"https://colab.research.google.com/github/LearnPythonWithRune/LearnPython/blob/main/colab/starter/00 - Project - Input and Output Strings.ipynb\"\n",
        " target=\"_parent\">\n",
        "<img \n",
        " src=\"https://colab.research.google.com/assets/colab-badge.svg\"\n",
        "alt=\"Open In Colab\"/>\n",
        "</a>"
      ]
    },
    {
      "cell_type": "markdown",
      "id": "cb5a5c6b",
      "metadata": {
        "id": "cb5a5c6b"
      },
      "source": [
        "# Project - Input and Output Strings\n",
        "### Goal\n",
        "- Get to know Jupyter Notebook\n",
        "- Execute your first program(s)"
      ]
    },
    {
      "cell_type": "markdown",
      "id": "127a9492",
      "metadata": {
        "id": "127a9492"
      },
      "source": [
        "### Description\n",
        "- This project is in 3 steps\n",
        "- The purpose is to get comforatble with Jupyter Notebook"
      ]
    },
    {
      "cell_type": "markdown",
      "id": "10620900",
      "metadata": {
        "id": "10620900"
      },
      "source": [
        "### Step 1\n",
        "- Make your first print \"Hello, World!\" program\n",
        "- Execute the cell"
      ]
    },
    {
      "cell_type": "markdown",
      "id": "e4cc3f8e",
      "metadata": {
        "id": "e4cc3f8e"
      },
      "source": [
        "### Step 2\n",
        "- Use input to get the name from user.\n",
        "- Print *Hello* and the the name of the user"
      ]
    },
    {
      "cell_type": "code",
      "execution_count": 1,
      "id": "ac75093b",
      "metadata": {
        "colab": {
          "base_uri": "https://localhost:8080/"
        },
        "id": "ac75093b",
        "outputId": "e2a9da3a-936c-4281-d3c8-ee3ddf8806a9"
      },
      "outputs": [
        {
          "name": "stdout",
          "output_type": "stream",
          "text": [
            "Hello juma\n"
          ]
        }
      ],
      "source": [
        "name = input(\"What is your name? \")\n",
        "print(\"Hello\", name)"
      ]
    },
    {
      "cell_type": "markdown",
      "id": "25b844b1",
      "metadata": {
        "id": "25b844b1"
      },
      "source": [
        "### Step 3\n",
        "- Use input to get the name from user.\n",
        "- Print \"I LIKE CAPITAL LETTER\" and the name capitalized by using **.upper()**"
      ]
    },
    {
      "cell_type": "code",
      "execution_count": 2,
      "id": "3fd33d0b",
      "metadata": {
        "colab": {
          "base_uri": "https://localhost:8080/"
        },
        "id": "3fd33d0b",
        "outputId": "9fa3d831-6c79-4ea4-b068-5ae9a242084c"
      },
      "outputs": [
        {
          "name": "stdout",
          "output_type": "stream",
          "text": [
            "I LIKE CAPITAL LETTER WILLINGTON\n"
          ]
        }
      ],
      "source": [
        "name = input(\"What is your name? \")\n",
        "print(\"I LIKE CAPITAL LETTER\", name.upper())"
      ]
    },
    {
      "cell_type": "code",
      "execution_count": 4,
      "id": "e5e6dd59",
      "metadata": {},
      "outputs": [
        {
          "name": "stdout",
          "output_type": "stream",
          "text": [
            "i am 20  years old\n"
          ]
        }
      ],
      "source": [
        "s= input(\"how old are you \")\n",
        "print (f\"i am {s}  years old\")"
      ]
    },
    {
      "cell_type": "markdown",
      "id": "d9ff3b11",
      "metadata": {},
      "source": [
        "Given a natural number N from input. Output \"EVEN\" if the number is even and output \"ODD\" if the number is odd.\n",
        "\n",
        "The function name should be evenOrOdd."
      ]
    },
    {
      "cell_type": "code",
      "execution_count": 9,
      "id": "36b68c74",
      "metadata": {},
      "outputs": [
        {
          "name": "stdout",
          "output_type": "stream",
          "text": [
            "its evn more \n"
          ]
        }
      ],
      "source": [
        "\n",
        "\n",
        "\n",
        "def evenOrod( num1):\n",
        "    if num1%2 ==0:\n",
        "        print(\"its evn more \")\n",
        "    else:\n",
        "        print(\"its a odd number\")  \n",
        "s=input(\"Enter a number \")   \n",
        "s=int(s)\n",
        "w=evenOrod(s)         "
      ]
    },
    {
      "cell_type": "markdown",
      "id": "adce0d08",
      "metadata": {},
      "source": [
        "Given a natural number N from input. Calculate the square of that number (N2) and the cube of that number (N3). Output them divided by a single spa"
      ]
    },
    {
      "cell_type": "code",
      "execution_count": 12,
      "id": "d425b811",
      "metadata": {},
      "outputs": [
        {
          "name": "stdout",
          "output_type": "stream",
          "text": [
            "the square is 9and cubic is 27 or same with pow 27\n"
          ]
        }
      ],
      "source": [
        "num1=input(\"Enter the value you want to compute \")\n",
        "num1=int(num1)\n",
        "square=num1*num1\n",
        "cubic= num1*num1*num1\n",
        "cubic_math=pow(num1,3)\n",
        "print(f\"the square is {square} and cubic is {cubic } or same with pow {cubic_math}\")"
      ]
    },
    {
      "cell_type": "markdown",
      "id": "0aebb5b1",
      "metadata": {},
      "source": [
        "Write a program that gets a natural number N from input representing the number of the month and outputs the number of days in that month.\n",
        "\n",
        "We will assume that it's not a leap year, so February has 28 days"
      ]
    },
    {
      "cell_type": "code",
      "execution_count": null,
      "id": "8ba494a8",
      "metadata": {},
      "outputs": [],
      "source": []
    }
  ],
  "metadata": {
    "accelerator": "GPU",
    "colab": {
      "collapsed_sections": [],
      "include_colab_link": true,
      "provenance": []
    },
    "kernelspec": {
      "display_name": "Python 3",
      "name": "python3"
    },
    "language_info": {
      "codemirror_mode": {
        "name": "ipython",
        "version": 3
      },
      "file_extension": ".py",
      "mimetype": "text/x-python",
      "name": "python",
      "nbconvert_exporter": "python",
      "pygments_lexer": "ipython3",
      "version": "3.11.8"
    }
  },
  "nbformat": 4,
  "nbformat_minor": 5
}

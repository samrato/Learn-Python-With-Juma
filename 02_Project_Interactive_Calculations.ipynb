{
  "cells": [
    {
      "cell_type": "markdown",
      "metadata": {
        "colab_type": "text",
        "id": "view-in-github"
      },
      "source": [
        "<a href=\"https://colab.research.google.com/github/MlungisiN/Learn-Python-With-Rune/blob/master/02_Project_Interactive_Calculations.ipynb\" target=\"_parent\"><img src=\"https://colab.research.google.com/assets/colab-badge.svg\" alt=\"Open In Colab\"/></a>"
      ]
    },
    {
      "cell_type": "markdown",
      "id": "91bdce1c",
      "metadata": {
        "id": "91bdce1c"
      },
      "source": [
        "<a \n",
        " href=\"https://colab.research.google.com/github/LearnPythonWithRune/LearnPython/blob/main/colab/starter/02 - Project - Interactive Calculations.ipynb\"\n",
        " target=\"_parent\">\n",
        "<img \n",
        " src=\"https://colab.research.google.com/assets/colab-badge.svg\"\n",
        "alt=\"Open In Colab\"/>\n",
        "</a>"
      ]
    },
    {
      "cell_type": "markdown",
      "id": "6df6fc32",
      "metadata": {
        "id": "6df6fc32"
      },
      "source": [
        "# Project - Interactive Calculations\n",
        "### Goal\n",
        "### Am willingon juma the python Dev \n",
        "- Multiply two numbers\n",
        "- Days since you were born\n",
        "- Tip calculator"
      ]
    },
    {
      "cell_type": "markdown",
      "id": "12118dd5",
      "metadata": {
        "id": "12118dd5"
      },
      "source": [
        "### Step 1\n",
        "- Input a value from the user and keep it in variable **a**.\n",
        "- Input another value from the user and keep it in variable **b**.\n",
        "- Print the product of the two values (**a*b**)."
      ]
    },
    {
      "cell_type": "code",
      "execution_count": 1,
      "id": "28a97076",
      "metadata": {
        "colab": {
          "base_uri": "https://localhost:8080/"
        },
        "id": "28a97076",
        "outputId": "f82182bc-f3e9-405b-e66b-8fc9b5e75686"
      },
      "outputs": [
        {
          "name": "stdout",
          "output_type": "stream",
          "text": [
            "The product of both inputs is 9\n"
          ]
        }
      ],
      "source": [
        "a = input(\"Input a value: \")\n",
        "b = input(\"Input another value:\")\n",
        "a = int(a)\n",
        "b = int(b)\n",
        "print(f\"The product of both inputs is {a*b}\")"
      ]
    },
    {
      "cell_type": "code",
      "execution_count": 3,
      "id": "38e2f63e",
      "metadata": {},
      "outputs": [
        {
          "name": "stdout",
          "output_type": "stream",
          "text": [
            "The first number is 3 ,second one is 3 and last one is 3 and their product is 27\n"
          ]
        }
      ],
      "source": [
        "# let try with 3 numbers \n",
        "num1=input(\"Enter your first number \")\n",
        "num2=input(\"Enter another number \")\n",
        "num3=input(\"Enter the last number\")\n",
        "num1=int(num1)\n",
        "num2=int(num2)\n",
        "num3=int(num3)\n",
        "print(f\"The first number is {num1} ,second one is {num2} and last one is {num3} and their product is {num1*num2*num3}\")"
      ]
    },
    {
      "cell_type": "markdown",
      "id": "33fab934",
      "metadata": {
        "id": "33fab934"
      },
      "source": [
        "### Step 2\n",
        "- Input how many years the user it.\n",
        "- Convert the years to an integer.\n",
        "- Calculate how many days, hours, minutes, and seconds since the user is born."
      ]
    },
    {
      "cell_type": "code",
      "execution_count": 11,
      "id": "jU3qpvMv4JQK",
      "metadata": {
        "colab": {
          "base_uri": "https://localhost:8080/"
        },
        "id": "jU3qpvMv4JQK",
        "outputId": "7a295821-1d97-44cc-e8ab-fb5fe740b337"
      },
      "outputs": [
        {
          "name": "stdout",
          "output_type": "stream",
          "text": [
            "Damn ❤️! your are 1990 years old\n",
            "you are 1990 old , 726350 days old ,17432400 hour old 1045944000 minutes  and 62756640000 seconds  on the earth \n"
          ]
        }
      ],
      "source": [
        "year=input(\"Enter the year you were born \")\n",
        "year=int(year)\n",
        "birth_year=2024-year\n",
        "\n",
        "days=365*birth_year\n",
        "hours=days*24\n",
        "minute=hours*60\n",
        "seconds=minute*60\n",
        "if year <0:\n",
        "    print(\"Enter your correct age kiongozi \")\n",
        "else:\n",
        "    print(f\"Damn ❤️! your are {birth_year} years old\")\n",
        "    print(f\"you are {birth_year} old , {days} days old ,{hours} hour old {minute} minutes  and {seconds} seconds  on the earth \")\n",
        "\n",
        "\n"
      ]
    },
    {
      "cell_type": "markdown",
      "id": "1d9518c9",
      "metadata": {
        "id": "1d9518c9"
      },
      "source": [
        "### Step 3\n",
        "- Here we will make a tip calculator.\n",
        "- Input the price.\n",
        "- Convert the price to an integer.\n",
        "- Input the percentage the user wants to tip.\n",
        "- Convert the percentage to an integer.\n",
        "- Calculate the tip by the following formula: **tip = price $\\times$ percentage_tip / 100**.\n",
        "- Round the tip to two digits.\n",
        "- Print the the tip.\n",
        "- *BONUS:* Adjust the code to take float input of percentage tip"
      ]
    },
    {
      "cell_type": "code",
      "execution_count": 13,
      "id": "d3b2df0d",
      "metadata": {
        "colab": {
          "base_uri": "https://localhost:8080/"
        },
        "id": "d3b2df0d",
        "outputId": "2474b996-8d33-4618-83e9-d5cc77410823"
      },
      "outputs": [
        {
          "name": "stdout",
          "output_type": "stream",
          "text": [
            "your tip is: 0.24\n"
          ]
        }
      ],
      "source": [
        "price = input(\"Input price:\")\n",
        "price = int(price)\n",
        "percentage_tip = input(\"What would you like to tip (%)? \")\n",
        "percentage_tip = float(percentage_tip)\n",
        "tip = price * percentage_tip/100\n",
        "print(\"your tip is:\", round(tip, 2))"
      ]
    }
  ],
  "metadata": {
    "colab": {
      "collapsed_sections": [],
      "include_colab_link": true,
      "provenance": []
    },
    "kernelspec": {
      "display_name": "Python 3",
      "name": "python3"
    },
    "language_info": {
      "codemirror_mode": {
        "name": "ipython",
        "version": 3
      },
      "file_extension": ".py",
      "mimetype": "text/x-python",
      "name": "python",
      "nbconvert_exporter": "python",
      "pygments_lexer": "ipython3",
      "version": "3.11.8"
    }
  },
  "nbformat": 4,
  "nbformat_minor": 5
}

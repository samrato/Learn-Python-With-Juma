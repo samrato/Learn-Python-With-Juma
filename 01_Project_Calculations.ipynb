{
  "cells": [
    {
      "cell_type": "markdown",
      "metadata": {
        "colab_type": "text",
        "id": "view-in-github"
      },
      "source": [
        "<a href=\"https://colab.research.google.com/github/MlungisiN/Learn-Python-With-Rune/blob/master/01_Project_Calculations.ipynb\" target=\"_parent\"><img src=\"https://colab.research.google.com/assets/colab-badge.svg\" alt=\"Open In Colab\"/></a>"
      ]
    },
    {
      "cell_type": "markdown",
      "id": "ba85d323",
      "metadata": {
        "id": "ba85d323"
      },
      "source": [
        "<a \n",
        " href=\"https://colab.research.google.com/github/LearnPythonWithRune/LearnPython/blob/main/colab/starter/01 - Project - Calculations.ipynb\"\n",
        " target=\"_parent\">\n",
        "<img \n",
        " src=\"https://colab.research.google.com/assets/colab-badge.svg\"\n",
        "alt=\"Open In Colab\"/>\n",
        "</a>"
      ]
    },
    {
      "cell_type": "markdown",
      "id": "b20946cb",
      "metadata": {
        "id": "b20946cb"
      },
      "source": [
        "# Project - Calculations\n",
        "## Goal\n",
        "### -Am willingon juma the python Dev \n",
        "- Using Jupyter Notebook as a Calculator\n",
        "- Understand how cells keeps track of calcualtions\n"
      ]
    },
    {
      "cell_type": "markdown",
      "id": "64812667",
      "metadata": {
        "id": "64812667"
      },
      "source": [
        "### Description\n",
        "- Create formulas\n",
        "- Have some fun with basic math"
      ]
    },
    {
      "cell_type": "markdown",
      "id": "cf63eee4",
      "metadata": {
        "id": "cf63eee4"
      },
      "source": [
        "### Step 1\n",
        "- Make a convertion from **kg** to **lbs**\n",
        "- Use this formula: $lbs = kg \\times 2.2046$\n",
        "- Make the cell to use variables"
      ]
    },
    {
      "cell_type": "code",
      "execution_count": 2,
      "id": "c33dee43",
      "metadata": {
        "colab": {
          "base_uri": "https://localhost:8080/"
        },
        "id": "c33dee43",
        "outputId": "ed738e1f-500b-491b-ac84-01c34e042d37"
      },
      "outputs": [
        {
          "name": "stdout",
          "output_type": "stream",
          "text": [
            "74.9564\n"
          ]
        }
      ],
      "source": [
        "kg=input(\"Enter the kg you want to convert\")\n",
        "kg=int(kg)\n",
        "lbs = kg * 2.2046\n",
        "print(lbs)"
      ]
    },
    {
      "cell_type": "markdown",
      "id": "b630234b",
      "metadata": {
        "id": "b630234b"
      },
      "source": [
        "### Step 2\n",
        "- Make calculation of circumference of a circle\n",
        "- The cell should define the radius\n",
        "- Calculate the circumference by the formula: $c = 2 \\times \\pi \\times r$\n",
        "- Define $\\pi = 3.14$ (use variable name **pi**)\n",
        "- Let the cell return the circumference"
      ]
    },
    {
      "cell_type": "code",
      "execution_count": 3,
      "id": "c514fd72",
      "metadata": {
        "colab": {
          "base_uri": "https://localhost:8080/"
        },
        "id": "c514fd72",
        "outputId": "c5cee162-10a4-424b-f820-4213d71e14b0"
      },
      "outputs": [
        {
          "name": "stdout",
          "output_type": "stream",
          "text": [
            "282.6\n"
          ]
        }
      ],
      "source": [
        "pi = 3.14\n",
        "rad=input(\":Enter the radius \")\n",
        "rad=int(rad)\n",
        "c = 2 * pi * rad\n",
        "    \n",
        "print(c)"
      ]
    },
    {
      "cell_type": "markdown",
      "id": "9f36b1bd",
      "metadata": {
        "id": "9f36b1bd"
      },
      "source": [
        "### Step 3\n",
        "1. Assign a variable to a any number (integer).\n",
        "2. Multiply the number by 3.\n",
        "3. Add 6 to the result from bullet 2.\n",
        "4. Divide this number by 3.\n",
        "5. Subtract the number from bullet 1 from the answer in bullet 4.\n",
        "6. The answer is 2."
      ]
    },
    {
      "cell_type": "code",
      "execution_count": 7,
      "id": "955410bf",
      "metadata": {
        "colab": {
          "base_uri": "https://localhost:8080/"
        },
        "id": "955410bf",
        "outputId": "a812bfae-6d97-456c-994f-fa620bdccd7a"
      },
      "outputs": [
        {
          "name": "stdout",
          "output_type": "stream",
          "text": [
            "The number is 6 and the answer is 2.0\n",
            "i love python am juma willington \n"
          ]
        }
      ],
      "source": [
        "num1=input(\"Enter the number\")\n",
        "num1=int(num1)\n",
        "num2=num1*3\n",
        "num3=num2+6\n",
        "num4=num3/3\n",
        "num5=num4-num1\n",
        "print(f\"The number is {num1} and the answer is {num5}\")\n",
        "print(\"i love python am juma willington \")\n"
      ]
    },
    {
      "cell_type": "markdown",
      "id": "ab89df76",
      "metadata": {},
      "source": [
        "Write a program that gets three natural numbers A, B, C from input and outputs whether a triangle can be made with sides that have lengths A, B and C. If yes outputs \"YES\", otherwise, outputs \"N"
      ]
    },
    {
      "cell_type": "code",
      "execution_count": 7,
      "id": "015cfe02",
      "metadata": {},
      "outputs": [
        {
          "name": "stdout",
          "output_type": "stream",
          "text": [
            "yes its a Triangle with vaalues of 4 ,6 ,8\n"
          ]
        }
      ],
      "source": [
        "A=int(input(\"Enter the number \"))\n",
        "B=int(input(\"Enter the number \"))\n",
        "C=int(input(\"Enter the number \"))\n",
        "if A < 0 or B<0 or C<0:\n",
        "    print(\"No it cannot make a triangle\")\n",
        "else:\n",
        "    if A+B >C and A+C> B and A+B>C :\n",
        "        print(f\"yes its a Triangle with vaalues of {A} ,{B} ,{C}\")\n",
        "    else:\n",
        "        print(\"Its not atriangle\")"
      ]
    },
    {
      "cell_type": "markdown",
      "id": "348971d5",
      "metadata": {},
      "source": [
        "Write a program that gets two natural numbers A and B from input and outputs their sum, difference, product and quotient."
      ]
    }
  ],
  "metadata": {
    "colab": {
      "include_colab_link": true,
      "provenance": []
    },
    "kernelspec": {
      "display_name": "Python 3",
      "name": "python3"
    },
    "language_info": {
      "codemirror_mode": {
        "name": "ipython",
        "version": 3
      },
      "file_extension": ".py",
      "mimetype": "text/x-python",
      "name": "python",
      "nbconvert_exporter": "python",
      "pygments_lexer": "ipython3",
      "version": "3.11.8"
    }
  },
  "nbformat": 4,
  "nbformat_minor": 5
}

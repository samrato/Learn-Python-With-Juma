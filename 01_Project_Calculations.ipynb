{
  "cells": [
    {
      "cell_type": "markdown",
      "metadata": {
        "colab_type": "text",
        "id": "view-in-github"
      },
      "source": [
        "<a href=\"https://colab.research.google.com/github/MlungisiN/Learn-Python-With-Rune/blob/master/01_Project_Calculations.ipynb\" target=\"_parent\"><img src=\"https://colab.research.google.com/assets/colab-badge.svg\" alt=\"Open In Colab\"/></a>"
      ]
    },
    {
      "cell_type": "markdown",
      "id": "ba85d323",
      "metadata": {
        "id": "ba85d323"
      },
      "source": [
        "<a \n",
        " href=\"https://colab.research.google.com/github/LearnPythonWithRune/LearnPython/blob/main/colab/starter/01 - Project - Calculations.ipynb\"\n",
        " target=\"_parent\">\n",
        "<img \n",
        " src=\"https://colab.research.google.com/assets/colab-badge.svg\"\n",
        "alt=\"Open In Colab\"/>\n",
        "</a>"
      ]
    },
    {
      "cell_type": "markdown",
      "id": "b20946cb",
      "metadata": {
        "id": "b20946cb"
      },
      "source": [
        "# Project - Calculations\n",
        "## Goal\n",
        "### -Am willingon juma the python Dev \n",
        "- Using Jupyter Notebook as a Calculator\n",
        "- Understand how cells keeps track of calcualtions\n"
      ]
    },
    {
      "cell_type": "markdown",
      "id": "64812667",
      "metadata": {
        "id": "64812667"
      },
      "source": [
        "### Description\n",
        "- Create formulas\n",
        "- Have some fun with basic math"
      ]
    },
    {
      "cell_type": "markdown",
      "id": "cf63eee4",
      "metadata": {
        "id": "cf63eee4"
      },
      "source": [
        "### Step 1\n",
        "- Make a convertion from **kg** to **lbs**\n",
        "- Use this formula: $lbs = kg \\times 2.2046$\n",
        "- Make the cell to use variables"
      ]
    },
    {
      "cell_type": "code",
      "execution_count": 2,
      "id": "c33dee43",
      "metadata": {
        "colab": {
          "base_uri": "https://localhost:8080/"
        },
        "id": "c33dee43",
        "outputId": "ed738e1f-500b-491b-ac84-01c34e042d37"
      },
      "outputs": [
        {
          "name": "stdout",
          "output_type": "stream",
          "text": [
            "74.9564\n"
          ]
        }
      ],
      "source": [
        "kg=input(\"Enter the kg you want to convert\")\n",
        "kg=int(kg)\n",
        "lbs = kg * 2.2046\n",
        "print(lbs)"
      ]
    },
    {
      "cell_type": "markdown",
      "id": "b630234b",
      "metadata": {
        "id": "b630234b"
      },
      "source": [
        "### Step 2\n",
        "- Make calculation of circumference of a circle\n",
        "- The cell should define the radius\n",
        "- Calculate the circumference by the formula: $c = 2 \\times \\pi \\times r$\n",
        "- Define $\\pi = 3.14$ (use variable name **pi**)\n",
        "- Let the cell return the circumference"
      ]
    },
    {
      "cell_type": "code",
      "execution_count": 3,
      "id": "c514fd72",
      "metadata": {
        "colab": {
          "base_uri": "https://localhost:8080/"
        },
        "id": "c514fd72",
        "outputId": "c5cee162-10a4-424b-f820-4213d71e14b0"
      },
      "outputs": [
        {
          "name": "stdout",
          "output_type": "stream",
          "text": [
            "282.6\n"
          ]
        }
      ],
      "source": [
        "pi = 3.14\n",
        "rad=input(\":Enter the radius \")\n",
        "rad=int(rad)\n",
        "c = 2 * pi * rad\n",
        "    \n",
        "print(c)"
      ]
    },
    {
      "cell_type": "markdown",
      "id": "9f36b1bd",
      "metadata": {
        "id": "9f36b1bd"
      },
      "source": [
        "### Step 3\n",
        "1. Assign a variable to a any number (integer).\n",
        "2. Multiply the number by 3.\n",
        "3. Add 6 to the result from bullet 2.\n",
        "4. Divide this number by 3.\n",
        "5. Subtract the number from bullet 1 from the answer in bullet 4.\n",
        "6. The answer is 2."
      ]
    },
    {
      "cell_type": "code",
      "execution_count": 7,
      "id": "955410bf",
      "metadata": {
        "colab": {
          "base_uri": "https://localhost:8080/"
        },
        "id": "955410bf",
        "outputId": "a812bfae-6d97-456c-994f-fa620bdccd7a"
      },
      "outputs": [
        {
          "name": "stdout",
          "output_type": "stream",
          "text": [
            "The number is 6 and the answer is 2.0\n",
            "i love python am juma willington \n"
          ]
        }
      ],
      "source": [
        "num1=input(\"Enter the number\")\n",
        "num1=int(num1)\n",
        "num2=num1*3\n",
        "num3=num2+6\n",
        "num4=num3/3\n",
        "num5=num4-num1\n",
        "print(f\"The number is {num1} and the answer is {num5}\")\n",
        "print(\"i love python am juma willington \")\n"
      ]
    },
    {
      "cell_type": "markdown",
      "id": "ab89df76",
      "metadata": {},
      "source": [
        "Write a program that gets three natural numbers A, B, C from input and outputs whether a triangle can be made with sides that have lengths A, B and C. If yes outputs \"YES\", otherwise, outputs \"N"
      ]
    },
    {
      "cell_type": "code",
      "execution_count": 7,
      "id": "015cfe02",
      "metadata": {},
      "outputs": [
        {
          "name": "stdout",
          "output_type": "stream",
          "text": [
            "yes its a Triangle with vaalues of 4 ,6 ,8\n"
          ]
        }
      ],
      "source": [
        "A=int(input(\"Enter the number \"))\n",
        "B=int(input(\"Enter the number \"))\n",
        "C=int(input(\"Enter the number \"))\n",
        "if A < 0 or B<0 or C<0:\n",
        "    print(\"No it cannot make a triangle\")\n",
        "else:\n",
        "    if A+B >C and A+C> B and A+B>C :\n",
        "        print(f\"yes its a Triangle with vaalues of {A} ,{B} ,{C}\")\n",
        "    else:\n",
        "        print(\"Its not atriangle\")"
      ]
    },
    {
      "cell_type": "markdown",
      "id": "348971d5",
      "metadata": {},
      "source": [
        "Write a program that gets two natural numbers A and B from input and outputs their sum, difference, product and quotient."
      ]
    },
    {
      "cell_type": "code",
      "execution_count": 10,
      "id": "d4a58949",
      "metadata": {},
      "outputs": [
        {
          "name": "stdout",
          "output_type": "stream",
          "text": [
            "The sum is 9 the product is 20 the difference is 1 and the quotient is 1.25\n"
          ]
        }
      ],
      "source": [
        "val1=int(input(\"Enter the first number \"))\n",
        "val2=int(input(\"Enter the second  number \"))\n",
        "sum = val1+val2\n",
        "product=val1*val2\n",
        "if val1 >val2:\n",
        "    quet=val1/val2\n",
        "    diff=val1-val2\n",
        "else:\n",
        "    quet=val2/val1\n",
        "    diff=val2-val1   \n",
        "\n",
        "print(f\"The sum is {sum} the product is {product } the difference is {diff} and the quotient is {quet}\")    \n"
      ]
    },
    {
      "cell_type": "markdown",
      "id": "5e46ec9a",
      "metadata": {},
      "source": [
        "Write a program that gets a natural number N from input and outputs the sum of the first N natural numbers:\n",
        "1 + 2 +3 + 4 + ... + N"
      ]
    },
    {
      "cell_type": "code",
      "execution_count": 16,
      "id": "1f6a7c7d",
      "metadata": {},
      "outputs": [
        {
          "name": "stdout",
          "output_type": "stream",
          "text": [
            "The sum of 4 is 10\n"
          ]
        }
      ],
      "source": [
        "num1=int(input(\"Enter the number to gets its sum\"))\n",
        "i=0\n",
        "sum=0\n",
        "while i<num1:\n",
        "    i=i+1\n",
        "    sum+=i\n",
        " \n",
        "print(f\"The sum of {num1} is {sum}\")"
      ]
    },
    {
      "cell_type": "markdown",
      "id": "db1d63b3",
      "metadata": {},
      "source": [
        "Write a program that gets three natural numbers A, B and C from input and outputs the sorted sequence of those numbers"
      ]
    },
    {
      "cell_type": "code",
      "execution_count": 20,
      "id": "c3367368",
      "metadata": {},
      "outputs": [
        {
          "name": "stdout",
          "output_type": "stream",
          "text": [
            "99\n"
          ]
        }
      ],
      "source": [
        "A=int(input(\"Enter the number \"))\n",
        "B=int(input(\"Enter the number \"))\n",
        "C=int(input(\"Enter the number \"))\n",
        "max=A\n",
        "if B>A and B>C:\n",
        "    max=B\n",
        "elif C>A and C>B:\n",
        "    max=C\n",
        "print(max)    \n"
      ]
    },
    {
      "cell_type": "markdown",
      "id": "8c4a4ed2",
      "metadata": {},
      "source": [
        "The next number is found by adding up the two numbers before it.\n",
        "\n",
        " \n",
        "\n",
        "Fn = Fn-1 + Fn-2"
      ]
    },
    {
      "cell_type": "code",
      "execution_count": 29,
      "id": "0d560cc3",
      "metadata": {},
      "outputs": [
        {
          "name": "stdout",
          "output_type": "stream",
          "text": [
            "The next is 1\n",
            "The next is 2\n",
            "The next is 3\n",
            "The next is 5\n",
            "The next is 8\n"
          ]
        }
      ],
      "source": [
        "f1=0\n",
        "f2=1\n",
        "i=0\n",
        "num1=int(input(\"Enter thenumber of times\"))\n",
        "while i<num1:\n",
        "    fn=f1+f2\n",
        "    i=i+1\n",
        "    print(f\"The next is {fn}\")\n",
        "    f1=f2\n",
        "    f2=fn   \n",
        "\n"
      ]
    }
  ],
  "metadata": {
    "colab": {
      "include_colab_link": true,
      "provenance": []
    },
    "kernelspec": {
      "display_name": "Python 3",
      "name": "python3"
    },
    "language_info": {
      "codemirror_mode": {
        "name": "ipython",
        "version": 3
      },
      "file_extension": ".py",
      "mimetype": "text/x-python",
      "name": "python",
      "nbconvert_exporter": "python",
      "pygments_lexer": "ipython3",
      "version": "3.11.8"
    }
  },
  "nbformat": 4,
  "nbformat_minor": 5
}

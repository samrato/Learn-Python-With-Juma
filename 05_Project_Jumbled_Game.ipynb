{
  "cells": [
    {
      "cell_type": "markdown",
      "metadata": {
        "colab_type": "text",
        "id": "view-in-github"
      },
      "source": [
        "<a href=\"https://colab.research.google.com/github/MlungisiN/Learn-Python-With-Rune/blob/master/05_Project_Jumbled_Game.ipynb\" target=\"_parent\"><img src=\"https://colab.research.google.com/assets/colab-badge.svg\" alt=\"Open In Colab\"/></a>"
      ]
    },
    {
      "cell_type": "markdown",
      "id": "6ee36e90",
      "metadata": {
        "id": "6ee36e90"
      },
      "source": [
        "<a \n",
        " href=\"https://colab.research.google.com/github/LearnPythonWithRune/LearnPython/blob/main/colab/starter/05 - Project - Jumbled Game.ipynb\"\n",
        " target=\"_parent\">\n",
        "<img \n",
        " src=\"https://colab.research.google.com/assets/colab-badge.svg\"\n",
        "alt=\"Open In Colab\"/>\n",
        "</a>"
      ]
    },
    {
      "cell_type": "markdown",
      "id": "0d8495d6",
      "metadata": {
        "id": "0d8495d6"
      },
      "source": [
        "# Project - Jumbled Game\n",
        "### Goal\n",
        "- Implement the [Jumbled Game](https://en.wikipedia.org/wiki/Jumble)"
      ]
    },
    {
      "cell_type": "markdown",
      "id": "b36dc87a",
      "metadata": {
        "id": "b36dc87a"
      },
      "source": [
        "### Description\n",
        "- A word jumble is a word puzzle game that presents the player with a bunch of mixed up letters and requires them to unscramble the letters to find the hidden word.\n",
        "- The computer will take word and jumble it (mix up the letters).\n",
        "- Then the player will guess what the word is\n",
        "- An initial word list could be: ['father', 'enterprise', 'science', 'programming', 'resistance', 'fiction', 'condition', 'reverse', 'computer', 'python']"
      ]
    },
    {
      "cell_type": "code",
      "execution_count": 2,
      "id": "30c0ebc7",
      "metadata": {
        "id": "30c0ebc7"
      },
      "outputs": [],
      "source": [
        "import random"
      ]
    },
    {
      "cell_type": "code",
      "execution_count": 1,
      "id": "2b834253",
      "metadata": {
        "id": "2b834253"
      },
      "outputs": [],
      "source": [
        "word_list = ['father', 'enterprise', 'science', 'programming', 'resistance', 'fiction', 'condition', 'reverse', 'computer', 'python']"
      ]
    },
    {
      "cell_type": "code",
      "execution_count": 32,
      "id": "X02czw0uFVxM",
      "metadata": {
        "colab": {
          "base_uri": "https://localhost:8080/"
        },
        "id": "X02czw0uFVxM",
        "outputId": "fd3e10ec-9367-43fc-cdba-34bdfaa5485d"
      },
      "outputs": [
        {
          "name": "stdout",
          "output_type": "stream",
          "text": [
            "The jumbled word is easetncisr\n",
            "What is the unscrambled word? resistance\n",
            "Correct Answer!\n"
          ]
        }
      ],
      "source": [
        "selection = random.choice(word_list)\n",
        "#print(selection)\n",
        "jumbled_word = ''.join(random.sample(selection, len(selection)))\n",
        "print(f\"The jumbled word is {jumbled_word}\")\n",
        "answer = input(\"What is the unscrambled word? \")\n",
        "if answer == selection:\n",
        "  print(\"Correct Answer!\")\n",
        "else:\n",
        "  print(f\"Incorrect, the correct answer is {selection}\")"
      ]
    },
    {
      "cell_type": "code",
      "execution_count": null,
      "id": "YJ452KyJJLth",
      "metadata": {
        "id": "YJ452KyJJLth"
      },
      "outputs": [],
      "source": []
    }
  ],
  "metadata": {
    "colab": {
      "include_colab_link": true,
      "provenance": []
    },
    "kernelspec": {
      "display_name": "Python 3",
      "name": "python3"
    },
    "language_info": {
      "codemirror_mode": {
        "name": "ipython",
        "version": 3
      },
      "file_extension": ".py",
      "mimetype": "text/x-python",
      "name": "python",
      "nbconvert_exporter": "python",
      "pygments_lexer": "ipython3",
      "version": "3.12.7"
    }
  },
  "nbformat": 4,
  "nbformat_minor": 5
}

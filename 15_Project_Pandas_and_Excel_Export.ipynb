{
  "cells": [
    {
      "cell_type": "markdown",
      "id": "9ac725ca",
      "metadata": {
        "id": "9ac725ca"
      },
      "source": [
        "# Project - Pandas and Excel Export\n",
        "### Goal\n",
        "# learn data science with juma the python Dev\n",
        "- Learn how to use Pandas DataFrames\n",
        "- Export to Excel spreadsheets"
      ]
    },
    {
      "cell_type": "markdown",
      "id": "e48d8d2d",
      "metadata": {
        "id": "e48d8d2d"
      },
      "source": [
        "### Description\n",
        "- import pandas as pd\n",
        "- Read the CSV file files/SalesData.csv with pandas\n",
        "    - Remember to set index_col to Date, delimiter to ';' and parse_dates to True\n",
        "- Group the data by **Sales rep** and sum it\n",
        "- Group the data by month\n",
        "    - HINT: Use pd.Grouper(freq='M')\n",
        "    - HINT: Change the index naming to use month names\n",
        "- Export the data to Excel\n",
        "    - Create an ExcelWriter from Pandas\n",
        "    - Write a sheet with **Sales rep** data create above (remember to set sheet_name)\n",
        "    - Write a sheet with **Monthly** data created above (remember to set sheet_name)\n",
        "- Bonus:\n",
        "    - Create charts column charts for each sheet.\n",
        "    - Use the simple way we created it."
      ]
    },
    {
      "cell_type": "code",
      "execution_count": 1,
      "id": "626deb9f",
      "metadata": {
        "id": "626deb9f"
      },
      "outputs": [
        {
          "name": "stderr",
          "output_type": "stream",
          "text": [
            "/usr/lib/python3/dist-packages/pandas/core/arrays/masked.py:60: UserWarning: Pandas requires version '1.3.6' or newer of 'bottleneck' (version '1.3.5' currently installed).\n",
            "  from pandas.core import (\n"
          ]
        }
      ],
      "source": [
        "import pandas as pd"
      ]
    },
    {
      "cell_type": "code",
      "execution_count": 2,
      "id": "99790af7",
      "metadata": {
        "id": "99790af7"
      },
      "outputs": [],
      "source": [
        "data = pd.read_csv('//home/activator/Desktop/Learn-Python-With-Juma/files/SalesData.csv',\n",
        " delimiter=';', parse_dates=True, index_col='Date')"
      ]
    },
    {
      "cell_type": "code",
      "execution_count": 3,
      "id": "50f5e71a",
      "metadata": {
        "colab": {
          "base_uri": "https://localhost:8080/",
          "height": 237
        },
        "id": "50f5e71a",
        "outputId": "864bda35-3dcf-4486-a6de-001aab83cb2f"
      },
      "outputs": [
        {
          "data": {
            "text/html": [
              "<div>\n",
              "<style scoped>\n",
              "    .dataframe tbody tr th:only-of-type {\n",
              "        vertical-align: middle;\n",
              "    }\n",
              "\n",
              "    .dataframe tbody tr th {\n",
              "        vertical-align: top;\n",
              "    }\n",
              "\n",
              "    .dataframe thead th {\n",
              "        text-align: right;\n",
              "    }\n",
              "</style>\n",
              "<table border=\"1\" class=\"dataframe\">\n",
              "  <thead>\n",
              "    <tr style=\"text-align: right;\">\n",
              "      <th></th>\n",
              "      <th>Sales rep</th>\n",
              "      <th>Item</th>\n",
              "      <th>Price</th>\n",
              "      <th>Quantity</th>\n",
              "      <th>Sale</th>\n",
              "    </tr>\n",
              "    <tr>\n",
              "      <th>Date</th>\n",
              "      <th></th>\n",
              "      <th></th>\n",
              "      <th></th>\n",
              "      <th></th>\n",
              "      <th></th>\n",
              "    </tr>\n",
              "  </thead>\n",
              "  <tbody>\n",
              "    <tr>\n",
              "      <th>2020-05-31</th>\n",
              "      <td>Mia</td>\n",
              "      <td>Markers</td>\n",
              "      <td>4</td>\n",
              "      <td>1</td>\n",
              "      <td>4</td>\n",
              "    </tr>\n",
              "    <tr>\n",
              "      <th>2020-02-01</th>\n",
              "      <td>Mia</td>\n",
              "      <td>Desk chair</td>\n",
              "      <td>199</td>\n",
              "      <td>2</td>\n",
              "      <td>398</td>\n",
              "    </tr>\n",
              "    <tr>\n",
              "      <th>2020-09-21</th>\n",
              "      <td>Oliver</td>\n",
              "      <td>Table</td>\n",
              "      <td>1099</td>\n",
              "      <td>2</td>\n",
              "      <td>2198</td>\n",
              "    </tr>\n",
              "    <tr>\n",
              "      <th>2020-07-15</th>\n",
              "      <td>Charlotte</td>\n",
              "      <td>Desk pad</td>\n",
              "      <td>9</td>\n",
              "      <td>2</td>\n",
              "      <td>18</td>\n",
              "    </tr>\n",
              "    <tr>\n",
              "      <th>2020-05-27</th>\n",
              "      <td>Emma</td>\n",
              "      <td>Book</td>\n",
              "      <td>12</td>\n",
              "      <td>1</td>\n",
              "      <td>12</td>\n",
              "    </tr>\n",
              "  </tbody>\n",
              "</table>\n",
              "</div>"
            ],
            "text/plain": [
              "            Sales rep        Item  Price  Quantity  Sale\n",
              "Date                                                    \n",
              "2020-05-31        Mia     Markers      4         1     4\n",
              "2020-02-01        Mia  Desk chair    199         2   398\n",
              "2020-09-21     Oliver       Table   1099         2  2198\n",
              "2020-07-15  Charlotte    Desk pad      9         2    18\n",
              "2020-05-27       Emma        Book     12         1    12"
            ]
          },
          "execution_count": 3,
          "metadata": {},
          "output_type": "execute_result"
        }
      ],
      "source": [
        "data.head()"
      ]
    },
    {
      "cell_type": "code",
      "execution_count": 4,
      "id": "6bc0817a",
      "metadata": {
        "colab": {
          "base_uri": "https://localhost:8080/"
        },
        "id": "6bc0817a",
        "outputId": "f34e2562-a8e1-4317-9432-67944e5071aa"
      },
      "outputs": [
        {
          "data": {
            "text/plain": [
              "Sales rep    object\n",
              "Item         object\n",
              "Price         int64\n",
              "Quantity      int64\n",
              "Sale          int64\n",
              "dtype: object"
            ]
          },
          "execution_count": 4,
          "metadata": {},
          "output_type": "execute_result"
        }
      ],
      "source": [
        "data.dtypes"
      ]
    },
    {
      "cell_type": "code",
      "execution_count": 5,
      "id": "9e54c616",
      "metadata": {
        "colab": {
          "base_uri": "https://localhost:8080/"
        },
        "id": "9e54c616",
        "outputId": "063c3423-a879-49d1-81b8-c382472e9b3a"
      },
      "outputs": [
        {
          "name": "stdout",
          "output_type": "stream",
          "text": [
            "<class 'pandas.core.frame.DataFrame'>\n",
            "DatetimeIndex: 1000 entries, 2020-05-31 to 2020-01-26\n",
            "Data columns (total 5 columns):\n",
            " #   Column     Non-Null Count  Dtype \n",
            "---  ------     --------------  ----- \n",
            " 0   Sales rep  1000 non-null   object\n",
            " 1   Item       1000 non-null   object\n",
            " 2   Price      1000 non-null   int64 \n",
            " 3   Quantity   1000 non-null   int64 \n",
            " 4   Sale       1000 non-null   int64 \n",
            "dtypes: int64(3), object(2)\n",
            "memory usage: 46.9+ KB\n"
          ]
        }
      ],
      "source": [
        "data.info()"
      ]
    },
    {
      "cell_type": "code",
      "execution_count": 6,
      "id": "7eaba766",
      "metadata": {
        "id": "7eaba766"
      },
      "outputs": [],
      "source": [
        "reps_sales = data.groupby('Sales rep').sum()['Sale']"
      ]
    },
    {
      "cell_type": "code",
      "execution_count": 7,
      "id": "-Wu-dwwpkEzL",
      "metadata": {
        "colab": {
          "base_uri": "https://localhost:8080/"
        },
        "id": "-Wu-dwwpkEzL",
        "outputId": "0861ba0f-26e2-4828-8e91-f7ce5f3f448b"
      },
      "outputs": [
        {
          "data": {
            "text/plain": [
              "Sales rep\n",
              "Charlotte     74599\n",
              "Emma          65867\n",
              "Ethan         40970\n",
              "Liam          66989\n",
              "Mia           88199\n",
              "Noah          78575\n",
              "Oliver        89355\n",
              "Sophia       103480\n",
              "William       80400\n",
              "Name: Sale, dtype: int64"
            ]
          },
          "execution_count": 7,
          "metadata": {},
          "output_type": "execute_result"
        }
      ],
      "source": [
        "reps_sales"
      ]
    },
    {
      "cell_type": "code",
      "execution_count": 8,
      "id": "a68b625c",
      "metadata": {
        "id": "a68b625c"
      },
      "outputs": [
        {
          "name": "stderr",
          "output_type": "stream",
          "text": [
            "/tmp/ipykernel_136028/2072250018.py:1: FutureWarning: 'M' is deprecated and will be removed in a future version, please use 'ME' instead.\n",
            "  monthly_sale = data.groupby(pd.Grouper(freq='M')).sum()['Sale']\n"
          ]
        }
      ],
      "source": [
        "monthly_sale = data.groupby(pd.Grouper(freq='M')).sum()['Sale']\n",
        "monthly_sale.index = monthly_sale.index.month_name()"
      ]
    },
    {
      "cell_type": "code",
      "execution_count": 9,
      "id": "0a4fef39",
      "metadata": {
        "colab": {
          "base_uri": "https://localhost:8080/"
        },
        "id": "0a4fef39",
        "outputId": "c7c5bd2e-170d-48b4-85d2-27ee28eac060"
      },
      "outputs": [
        {
          "data": {
            "text/plain": [
              "Date\n",
              "January      69990\n",
              "February     51847\n",
              "March        67500\n",
              "April        58401\n",
              "May          40319\n",
              "June         59397\n",
              "July         64251\n",
              "August       51571\n",
              "September    55666\n",
              "October      50093\n",
              "November     57458\n",
              "December     61941\n",
              "Name: Sale, dtype: int64"
            ]
          },
          "execution_count": 9,
          "metadata": {},
          "output_type": "execute_result"
        }
      ],
      "source": [
        "monthly_sale"
      ]
    },
    {
      "cell_type": "code",
      "execution_count": 10,
      "id": "e8573dc7",
      "metadata": {
        "id": "e8573dc7"
      },
      "outputs": [],
      "source": [
        "workbook = pd.ExcelWriter('SalesReport.xlsx')\n",
        "reps_sales.to_excel(workbook, sheet_name='Sales per rep')\n",
        "monthly_sale.to_excel(workbook, sheet_name='Monthly')\n",
        "workbook.close()"
      ]
    },
    {
      "cell_type": "code",
      "execution_count": 18,
      "id": "5cc9ab17",
      "metadata": {
        "id": "5cc9ab17"
      },
      "outputs": [],
      "source": [
        "workbook = pd.ExcelWriter('SalesReport.xlsx')\n",
        "reps_sales.to_excel(workbook, sheet_name='Sales per rep')\n",
        "monthly_sale.to_excel(workbook, sheet_name='Monthly')\n",
        "\n",
        "chart1 = workbook.book.add_chart({'type': 'column'})\n",
        "\n",
        "# Configure the first series.abs\n",
        "chart1.add_series({\n",
        "    'name': 'Sales per rep',\n",
        "    'categories': \"=\\'Sales per rep\\'!$A$2:$A$10\",\n",
        "    'values': \"=\\'Sales per rep\\'!$B$2:$B$10\",\n",
        "\n",
        "})\n",
        "\n",
        "workbook.sheets['Sales per rep'].insert_chart('D2', chart1)\n",
        "\n",
        "\n",
        "chart1 = workbook.book.add_chart({'type': 'column'})\n",
        "\n",
        "# Configure the first series.abs\n",
        "chart1.add_series({\n",
        "    'name': 'Monthly sales',\n",
        "    'categories': '=Monthly!$A$2:$A$13',\n",
        "    'values': '=Monthly!$B$2:$B$13',\n",
        "\n",
        "})\n",
        "\n",
        "workbook.sheets['Monthly'].insert_chart('D2', chart1)\n",
        "\n",
        "workbook.close()"
      ]
    },
    {
      "cell_type": "code",
      "execution_count": null,
      "id": "IaNwJ7UniLdx",
      "metadata": {
        "id": "IaNwJ7UniLdx"
      },
      "outputs": [],
      "source": []
    }
  ],
  "metadata": {
    "colab": {
      "collapsed_sections": [],
      "include_colab_link": true,
      "provenance": []
    },
    "gpuClass": "standard",
    "kernelspec": {
      "display_name": "Python 3",
      "name": "python3"
    },
    "language_info": {
      "codemirror_mode": {
        "name": "ipython",
        "version": 3
      },
      "file_extension": ".py",
      "mimetype": "text/x-python",
      "name": "python",
      "nbconvert_exporter": "python",
      "pygments_lexer": "ipython3",
      "version": "3.12.7"
    }
  },
  "nbformat": 4,
  "nbformat_minor": 5
}

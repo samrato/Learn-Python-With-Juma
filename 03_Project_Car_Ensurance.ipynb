{
  "cells": [
    {
      "cell_type": "markdown",
      "id": "4CQbHD0IIR95",
      "metadata": {
        "id": "4CQbHD0IIR95"
      },
      "source": [
        "# Project - Car Ensurance\n",
        "### Goal\n",
        "- Car ensurance calculation based on the following decision tree"
      ]
    },
    {
      "cell_type": "markdown",
      "id": "lDiTg0pEIR99",
      "metadata": {
        "id": "lDiTg0pEIR99"
      },
      "source": [
        "![alt text](img/DecisionTree.png \"Title\")"
      ]
    },
    {
      "cell_type": "markdown",
      "id": "1zp_1qItIR9-",
      "metadata": {
        "id": "1zp_1qItIR9-"
      },
      "source": [
        "### Description\n",
        "- This is a fictional car insurance company called Car Crash\n",
        "- They calculate the yearly ensurance price based on the current market price of the car\n",
        "- Given the market price: market_price\n",
        "- Then the yearly ensurance price is 9% of the market_price if it is a male above 26 years old.\n",
        "- As we see in the decision tree, we have 4 possible price calculations.\n",
        "- Create a program, which takes input and based on that calculated the correct price for all 4 cases"
      ]
    },
    {
      "cell_type": "code",
      "execution_count": 2,
      "id": "cf8ec9e0",
      "metadata": {
        "colab": {
          "base_uri": "https://localhost:8080/"
        },
        "id": "cf8ec9e0",
        "outputId": "e2d7b3d2-df0e-4c86-c225-20321887ddb5"
      },
      "outputs": [
        {
          "name": "stdout",
          "output_type": "stream",
          "text": [
            "Male\n",
            "Less/equal to 26\n",
            "Ensurance offer: 0.92\n"
          ]
        }
      ],
      "source": [
        "gender = input(\"What is your gender (M/F): \")\n",
        "gender = gender.upper()\n",
        "if gender == 'M':\n",
        "    print(\"Male\")\n",
        "    age = input(\"What is your age? \")\n",
        "    age = int(age)\n",
        "    if age <= 26:\n",
        "        print(\"Less/equal to 26\")\n",
        "        percentage = 23\n",
        "    else:\n",
        "        print(\"More than 26\")\n",
        "        percentage = 9\n",
        "elif gender == 'F':\n",
        "    print(\"Female\")\n",
        "    car_type = input(\"What is your car type (sports/non-sports) \")\n",
        "    car_type = car_type.upper()\n",
        "    if car_type == \"SPORTS\":\n",
        "        print(\"Sports car\")\n",
        "        percentage = 21\n",
        "    else:\n",
        "        print(\"Non-sports car\")\n",
        "        percentage = 10\n",
        "else:\n",
        "    print(\"Wrong format\")\n",
        "    percentage = None\n",
        "\n",
        "market_price = input(\"What is the market price of your car? \")\n",
        "market_price = int(market_price)\n",
        "ensurance_offer = market_price*percentage/100\n",
        "print(f\"Ensurance offer: {ensurance_offer}\")"
      ]
    },
    {
      "cell_type": "code",
      "execution_count": null,
      "id": "a28tMCJmJOdi",
      "metadata": {
        "id": "a28tMCJmJOdi"
      },
      "outputs": [],
      "source": []
    }
  ],
  "metadata": {
    "colab": {
      "collapsed_sections": [],
      "include_colab_link": true,
      "provenance": []
    },
    "kernelspec": {
      "display_name": "Python 3",
      "language": "python",
      "name": "python3"
    },
    "language_info": {
      "codemirror_mode": {
        "name": "ipython",
        "version": 3
      },
      "file_extension": ".py",
      "mimetype": "text/x-python",
      "name": "python",
      "nbconvert_exporter": "python",
      "pygments_lexer": "ipython3",
      "version": "3.11.8"
    }
  },
  "nbformat": 4,
  "nbformat_minor": 5
}
